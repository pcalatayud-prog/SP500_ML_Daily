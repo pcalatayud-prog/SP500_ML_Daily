{
 "cells": [
  {
   "cell_type": "code",
   "execution_count": 1,
   "id": "3a844e94",
   "metadata": {},
   "outputs": [
    {
     "data": {
      "text/html": [
       "        <script type=\"text/javascript\">\n",
       "        window.PlotlyConfig = {MathJaxConfig: 'local'};\n",
       "        if (window.MathJax) {MathJax.Hub.Config({SVG: {font: \"STIX-Web\"}});}\n",
       "        if (typeof require !== 'undefined') {\n",
       "        require.undef(\"plotly\");\n",
       "        requirejs.config({\n",
       "            paths: {\n",
       "                'plotly': ['https://cdn.plot.ly/plotly-2.8.3.min']\n",
       "            }\n",
       "        });\n",
       "        require(['plotly'], function(Plotly) {\n",
       "            window._Plotly = Plotly;\n",
       "        });\n",
       "        }\n",
       "        </script>\n",
       "        "
      ]
     },
     "metadata": {},
     "output_type": "display_data"
    }
   ],
   "source": [
    "#Importing Required Libraries\n",
    "import pandas as pd\n",
    "import numpy as np\n",
    "import yfinance as yf\n",
    "import matplotlib.pyplot as plt\n",
    "import cufflinks as cf\n",
    "from pandas_datareader import data\n",
    "from pandas.tseries.frequencies import to_offset\n",
    "import csv\n",
    "from datetime import datetime\n",
    "import time\n",
    "\n",
    "import matplotlib.pyplot as plt\n",
    "from scipy.optimize import brute\n",
    "plt.style.use(\"seaborn\")"
   ]
  },
  {
   "cell_type": "code",
   "execution_count": 2,
   "id": "862d4c72",
   "metadata": {},
   "outputs": [],
   "source": [
    "def data_agreggation_yahoo(start,end,a):\n",
    "    df = pd.DataFrame()\n",
    "    data=[]\n",
    "    for ticker in a:\n",
    "        \n",
    "        data = yf.download(ticker, start = start, end = end)\n",
    "        a=ticker+\"_returns\"\n",
    "        df[a] = np.log(data.Open / data.Close)*100\n",
    "                        \n",
    "    return df"
   ]
  },
  {
   "cell_type": "code",
   "execution_count": 3,
   "id": "8e4bb0b7",
   "metadata": {},
   "outputs": [],
   "source": [
    "def data_agreggation_csv(start,end,name_csv,dates):\n",
    "    \n",
    "    \n",
    "    week_13_treasury = pd.read_csv(name_csv)\n",
    "    mask = (week_13_treasury[\"Date\"]>=start) & (week_13_treasury[\"Date\"]<=end)\n",
    "    week_13_treasury = week_13_treasury.loc[mask]\n",
    "    \n",
    "    week_13_treasury[\"yield_returns\"] = np.log(week_13_treasury.Open / week_13_treasury.Close)*100\n",
    "    \n",
    "    dates_treasury = list(week_13_treasury[\"Date\"])\n",
    "    dates_treasury_return = list(week_13_treasury[\"yield_returns\"])\n",
    "    \n",
    "    \n",
    "    \n",
    "    data=pd.DataFrame(columns = ['Date','Yield_returns'])\n",
    "    \n",
    "    \n",
    "    for i in dates:\n",
    "        for j in range(len(dates_treasury_return)):\n",
    "\n",
    "            if dates_treasury[j] in str(i):\n",
    "                \n",
    "                a=[i,dates_treasury_return[j]]\n",
    "                data.loc[len(data.index)] = a\n",
    "    \n",
    "    data.index = data[\"Date\"]\n",
    "    \n",
    "    return data"
   ]
  }
 ],
 "metadata": {
  "kernelspec": {
   "display_name": "Python 3 (ipykernel)",
   "language": "python",
   "name": "python3"
  },
  "language_info": {
   "codemirror_mode": {
    "name": "ipython",
    "version": 3
   },
   "file_extension": ".py",
   "mimetype": "text/x-python",
   "name": "python",
   "nbconvert_exporter": "python",
   "pygments_lexer": "ipython3",
   "version": "3.9.7"
  }
 },
 "nbformat": 4,
 "nbformat_minor": 5
}
